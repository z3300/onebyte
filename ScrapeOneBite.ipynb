{
  "cells": [
    {
      "cell_type": "code",
      "execution_count": 1,
      "metadata": {
        "id": "HzLJEbefjoRm"
      },
      "outputs": [],
      "source": [
        "from bs4 import BeautifulSoup as bs\n",
        "import requests\n",
        "import time"
      ]
    },
    {
      "cell_type": "code",
      "execution_count": 2,
      "metadata": {
        "id": "g0m4HWgeocIr"
      },
      "outputs": [],
      "source": [
        "r = requests.get(\"https://onebite.app/reviews/dave?page=1\")\n",
        "\n",
        "soup = bs(r.content)\n",
        "\n",
        "contents = soup.prettify()"
      ]
    },
    {
      "cell_type": "code",
      "execution_count": 3,
      "metadata": {
        "colab": {
          "base_uri": "https://localhost:8080/"
        },
        "id": "cLTNJBydAWOy",
        "outputId": "5544c058-b0f4-41a5-b50d-4afc6e6a386d"
      },
      "outputs": [
        {
          "data": {
            "text/plain": [
              "[8.3,\n",
              " 7.4,\n",
              " 7.6,\n",
              " 7.7,\n",
              " 7.9,\n",
              " 7.6,\n",
              " 6.4,\n",
              " 7.7,\n",
              " 3.8,\n",
              " 7.7,\n",
              " 6.7,\n",
              " 7.7,\n",
              " 7.9,\n",
              " 7.5,\n",
              " 7.6,\n",
              " 7.9,\n",
              " 7.2,\n",
              " 7.5,\n",
              " 7.3,\n",
              " 6.8,\n",
              " 6.8,\n",
              " 6.6,\n",
              " 7.1,\n",
              " 8.1,\n",
              " 8.2,\n",
              " 6.8,\n",
              " 7.9,\n",
              " 7.2,\n",
              " 7.3,\n",
              " 7.1]"
            ]
          },
          "execution_count": 3,
          "metadata": {},
          "output_type": "execute_result"
        }
      ],
      "source": [
        "#finding score\n",
        "\n",
        "def findscore():\n",
        "  mydivs = soup.find_all(\"p\", {\"class\": \"jsx-407081529 rating__score\"})\n",
        "  score_list = []\n",
        "  for i in mydivs:\n",
        "    score_list.append(i.get_text())\n",
        "  score_list = [float(i) for i in score_list]\n",
        "  return score_list\n",
        "findscore()"
      ]
    },
    {
      "cell_type": "code",
      "execution_count": 4,
      "metadata": {
        "colab": {
          "base_uri": "https://localhost:8080/"
        },
        "id": "s8lOUCA2JlGw",
        "outputId": "93d0443c-5245-473d-9de0-38d6f599fd30"
      },
      "outputs": [
        {
          "data": {
            "text/plain": [
              "['Over Under',\n",
              " 'Primo Pizza',\n",
              " 'John The Baker',\n",
              " \"Dicey's Tavern\",\n",
              " \"Manny's House of Pizza\",\n",
              " \"Nicky's Coal Fired\",\n",
              " 'Midnight Oil',\n",
              " 'Krust ',\n",
              " 'No Name Pub',\n",
              " 'Coast to Coast Pizza Company',\n",
              " \"Enrico's Pizza Islamorada\",\n",
              " \"Pedroso's Pizza\",\n",
              " 'Sammataro',\n",
              " 'Via 313 Pizza',\n",
              " 'Squared Up Pizza',\n",
              " 'Via Della Slice Shop',\n",
              " 'Frank Pepes of Plantation',\n",
              " \"Goodfella's Pizza\",\n",
              " \"Vinny's Pizza\",\n",
              " 'Blue Springs Pizza',\n",
              " 'The Drexel',\n",
              " 'Toppers Pizza Place',\n",
              " \"Tony's Pizza Bros\",\n",
              " \"Jeff's Pizza\",\n",
              " 'Pizza Marvin',\n",
              " 'Pizza J',\n",
              " 'Nellies Place',\n",
              " 'Nanuet Restaurant',\n",
              " 'Nanuet Hotel & Restaurant',\n",
              " 'Casaletto Pizzeria']"
            ]
          },
          "execution_count": 4,
          "metadata": {},
          "output_type": "execute_result"
        }
      ],
      "source": [
        "#finding Resturant Name\n",
        "def findname():\n",
        "  names = soup.find_all(\"h2\", {\"class\": \"jsx-2655995184 reviewCard__title\"})\n",
        "  name_list = []\n",
        "  for i in names:\n",
        "    name_list.append(i.get_text())\n",
        "  return name_list\n",
        "findname()\n"
      ]
    },
    {
      "cell_type": "code",
      "execution_count": null,
      "metadata": {
        "colab": {
          "base_uri": "https://localhost:8080/"
        },
        "id": "Vd4MGiqDGZZM",
        "outputId": "269061ff-3f4b-40e3-9e50-d28144f99b1a"
      },
      "outputs": [
        {
          "data": {
            "text/plain": [
              "['https://onebite.app/restaurant/diceys-tavern-nashville-tn-308b6715',\n",
              " 'https://onebite.app/restaurant/mannys-house-of-pizza-nashville-tn-3edd5b88',\n",
              " 'https://onebite.app/restaurant/nickys-coal-fired-nashville-tn-935b3dfe',\n",
              " 'https://onebite.app/restaurant/midnight-oil-nashville-tn-4a72c8b8',\n",
              " 'https://onebite.app/restaurant/krust-tavernier-fl-84644abd',\n",
              " 'https://onebite.app/restaurant/no-name-pub-big-pine-key-fl-6a13c9d5',\n",
              " 'https://onebite.app/restaurant/coast-to-coast-pizza-company-marathon-fl-8e17ea6b',\n",
              " 'https://onebite.app/restaurant/enricos-pizza-islamorada-tavernier-fl-a4e8e4d3',\n",
              " 'https://onebite.app/restaurant/pedrosos-pizza-austin-tx-1f7a38c9',\n",
              " 'https://onebite.app/restaurant/sammataro-austin-tx-e160f487',\n",
              " 'https://onebite.app/restaurant/via-313-pizza-austin-tx-707209ef',\n",
              " 'https://onebite.app/restaurant/squared-up-pizza-tucson-az-d44dfe1b',\n",
              " 'https://onebite.app/restaurant/via-della-slice-shop-phoenix-az-1436cdcc',\n",
              " 'https://onebite.app/restaurant/frank-pepes-of-plantation-plantation-fl-3c156d96',\n",
              " 'https://onebite.app/restaurant/goodfellas-pizza-jupiter-fl-67ff0c6c',\n",
              " 'https://onebite.app/restaurant/vinnys-pizza-jupiter-fl-3ba29a35',\n",
              " 'https://onebite.app/restaurant/blue-springs-pizza-orange-city-fl-d184800d',\n",
              " 'https://onebite.app/restaurant/the-drexel-miami-beach-fl-4c66552f',\n",
              " 'https://onebite.app/restaurant/toppers-pizza-place-camarillo-ca-5c5d9ff7',\n",
              " 'https://onebite.app/restaurant/tonys-pizza-bros-camarillo-ca-81e70ced',\n",
              " 'https://onebite.app/restaurant/jeffs-pizza-east-providence-ri-d279cdaf',\n",
              " 'https://onebite.app/restaurant/pizza-marvin-providence-ri-69039999',\n",
              " 'https://onebite.app/restaurant/pizza-j-providence-ri-cef5024a',\n",
              " 'https://onebite.app/restaurant/nellies-place-waldwick-nj-f3cd67e0',\n",
              " 'https://onebite.app/restaurant/nanuet-restaurant-nanuet-ny-708cc623',\n",
              " 'https://onebite.app/restaurant/nanuet-hotel-and-restaurant-nanuet-ny-8ba68e17',\n",
              " 'https://onebite.app/restaurant/casaletto-pizzeria-sleepy-hollow-ny-0ae1c7ae',\n",
              " 'https://onebite.app/restaurant/beekman-ale-house-sleepy-hollow-ny-d4e7ac37',\n",
              " 'https://onebite.app/restaurant/norcina-new-city-ny-f83a9385',\n",
              " 'https://onebite.app/restaurant/the-mountain-house-sparkill-ny-75114230']"
            ]
          },
          "execution_count": 5,
          "metadata": {},
          "output_type": "execute_result"
        }
      ],
      "source": [
        "#Finds the links to individual resturant\n",
        "def findlinks():\n",
        "  links = soup.find_all(\"a\", {\"class\": \"jsx-2655995184\"})\n",
        "  link_list = []\n",
        "  for i in links:\n",
        "    x = i.get('href')\n",
        "    if x not in link_list and \"https://slicelife.com\" not in x:\n",
        "      link_list.append(x)\n",
        "  bite = \"https://onebite.app\"\n",
        "  click_link = [bite + x for x in link_list]\n",
        "  for i, link in enumerate(click_link):\n",
        "    # Split the link on '/'\n",
        "    split_link = link.split(\"/\")\n",
        "    # Find the index of the 'review' element\n",
        "    review_index = split_link.index(\"review\")\n",
        "    # Remove everything after 'review' by slicing the list\n",
        "    split_link = split_link[:review_index]\n",
        "    # Join the list back into a string\n",
        "    click_link[i] = '/'.join(split_link)\n",
        "  return click_link\n",
        "findlinks()\n"
      ]
    },
    {
      "cell_type": "code",
      "execution_count": 5,
      "metadata": {
        "id": "6epLstxYLguK"
      },
      "outputs": [
        {
          "data": {
            "text/plain": [
              "(['Miami',\n",
              "  'Miami Beach',\n",
              "  'Pembroke Pines',\n",
              "  'Nashville',\n",
              "  'Nashville',\n",
              "  'Nashville',\n",
              "  'Nashville',\n",
              "  'Tavernier',\n",
              "  'Big Pine Key',\n",
              "  'Marathon',\n",
              "  'Tavernier',\n",
              "  'Austin',\n",
              "  'Austin',\n",
              "  'Austin',\n",
              "  'Tucson',\n",
              "  'Phoenix',\n",
              "  'Plantation',\n",
              "  'Jupiter',\n",
              "  'Jupiter',\n",
              "  'Orange City',\n",
              "  'Miami Beach',\n",
              "  'Camarillo',\n",
              "  'Camarillo',\n",
              "  'East Providence',\n",
              "  'Providence',\n",
              "  'Providence',\n",
              "  'Waldwick',\n",
              "  'Nanuet',\n",
              "  'Nanuet',\n",
              "  'Sleepy Hollow'],\n",
              " [' FL',\n",
              "  ' FL',\n",
              "  ' FL',\n",
              "  ' TN',\n",
              "  ' TN',\n",
              "  ' TN',\n",
              "  ' TN',\n",
              "  ' FL',\n",
              "  ' FL',\n",
              "  ' FL',\n",
              "  ' FL',\n",
              "  ' TX',\n",
              "  ' TX',\n",
              "  ' TX',\n",
              "  ' AZ',\n",
              "  ' AZ',\n",
              "  ' FL',\n",
              "  ' FL',\n",
              "  ' FL',\n",
              "  ' FL',\n",
              "  ' FL',\n",
              "  ' CA',\n",
              "  ' CA',\n",
              "  ' RI',\n",
              "  ' RI',\n",
              "  ' RI',\n",
              "  ' NJ',\n",
              "  ' NY',\n",
              "  ' NY',\n",
              "  ' NY'])"
            ]
          },
          "execution_count": 5,
          "metadata": {},
          "output_type": "execute_result"
        }
      ],
      "source": [
        "#finding locaion\n",
        "def findlocation():\n",
        "  locations = soup.find_all(\"p\", {\"class\": \"jsx-2655995184 reviewCard__location\"})\n",
        "  city_list = []\n",
        "  state_list = []\n",
        "  location_list = []\n",
        "  for i in locations:\n",
        "    citystate = i.get_text()\n",
        "    city , state = citystate.split(\",\", 1)\n",
        "    city_list.append(city)\n",
        "    state_list.append(state)\n",
        "  return city_list, state_list\n",
        "findlocation()"
      ]
    },
    {
      "cell_type": "code",
      "execution_count": 6,
      "metadata": {
        "colab": {
          "base_uri": "https://localhost:8080/"
        },
        "id": "eBSRLTynwCaa",
        "outputId": "f51ff6d1-e4cd-403f-e3b1-c1e954b2d221"
      },
      "outputs": [
        {
          "data": {
            "text/plain": [
              "['18',\n",
              " '2',\n",
              " '3',\n",
              " '6',\n",
              " '1/26/23',\n",
              " '1/25/23',\n",
              " '1/24/23',\n",
              " '1/23/23',\n",
              " '1/20/23',\n",
              " '1/19/23',\n",
              " '1/18/23',\n",
              " '1/16/23',\n",
              " '1/13/23',\n",
              " '1/12/23',\n",
              " '1/11/23',\n",
              " '1/10/23',\n",
              " '1/9/23',\n",
              " '1/6/23',\n",
              " '1/5/23',\n",
              " '1/5/23',\n",
              " '1/3/23',\n",
              " '1/2/23',\n",
              " '12/29/22',\n",
              " '12/27/22',\n",
              " '12/26/22',\n",
              " '12/23/22',\n",
              " '12/22/22',\n",
              " '12/21/22',\n",
              " '12/20/22',\n",
              " '12/19/22']"
            ]
          },
          "execution_count": 6,
          "metadata": {},
          "output_type": "execute_result"
        }
      ],
      "source": [
        "#find date\n",
        "def finddate():\n",
        "  date_time = soup.find_all(\"p\", {\"class\": \"jsx-107e6328b2507bd6 userMeta__timestamp\"})\n",
        "  date_list = []\n",
        "  for i in date_time:\n",
        "    datetime = i.get_text()\n",
        "    sep = datetime.split(\" \", 1)\n",
        "    date_list.append(sep[0])\n",
        "  return date_list\n",
        "finddate()"
      ]
    },
    {
      "cell_type": "code",
      "execution_count": null,
      "metadata": {
        "colab": {
          "base_uri": "https://localhost:8080/"
        },
        "id": "GZXqSUVH6Les",
        "outputId": "dc8f22d7-af4a-4532-8588-cb3354f7c283"
      },
      "outputs": [
        {
          "name": "stderr",
          "output_type": "stream",
          "text": [
            "  2%|▏         | 1/47 [00:00<00:39,  1.18it/s]"
          ]
        },
        {
          "name": "stdout",
          "output_type": "stream",
          "text": [
            "1\n"
          ]
        },
        {
          "name": "stderr",
          "output_type": "stream",
          "text": [
            "\r  4%|▍         | 2/47 [00:01<00:42,  1.07it/s]"
          ]
        },
        {
          "name": "stdout",
          "output_type": "stream",
          "text": [
            "2\n"
          ]
        },
        {
          "name": "stderr",
          "output_type": "stream",
          "text": [
            "\r  6%|▋         | 3/47 [00:03<00:46,  1.05s/it]"
          ]
        },
        {
          "name": "stdout",
          "output_type": "stream",
          "text": [
            "3\n"
          ]
        },
        {
          "name": "stderr",
          "output_type": "stream",
          "text": [
            "\r  9%|▊         | 4/47 [00:03<00:41,  1.04it/s]"
          ]
        },
        {
          "name": "stdout",
          "output_type": "stream",
          "text": [
            "4\n"
          ]
        },
        {
          "name": "stderr",
          "output_type": "stream",
          "text": [
            "\r 11%|█         | 5/47 [00:04<00:37,  1.12it/s]"
          ]
        },
        {
          "name": "stdout",
          "output_type": "stream",
          "text": [
            "5\n"
          ]
        },
        {
          "name": "stderr",
          "output_type": "stream",
          "text": [
            "\r 13%|█▎        | 6/47 [00:05<00:37,  1.11it/s]"
          ]
        },
        {
          "name": "stdout",
          "output_type": "stream",
          "text": [
            "6\n"
          ]
        },
        {
          "name": "stderr",
          "output_type": "stream",
          "text": [
            "\r 15%|█▍        | 7/47 [00:06<00:37,  1.07it/s]"
          ]
        },
        {
          "name": "stdout",
          "output_type": "stream",
          "text": [
            "7\n"
          ]
        },
        {
          "name": "stderr",
          "output_type": "stream",
          "text": [
            "\r 17%|█▋        | 8/47 [00:07<00:36,  1.07it/s]"
          ]
        },
        {
          "name": "stdout",
          "output_type": "stream",
          "text": [
            "8\n"
          ]
        },
        {
          "name": "stderr",
          "output_type": "stream",
          "text": [
            "\r 19%|█▉        | 9/47 [00:08<00:34,  1.09it/s]"
          ]
        },
        {
          "name": "stdout",
          "output_type": "stream",
          "text": [
            "9\n"
          ]
        },
        {
          "name": "stderr",
          "output_type": "stream",
          "text": [
            "\r 21%|██▏       | 10/47 [00:09<00:31,  1.19it/s]"
          ]
        },
        {
          "name": "stdout",
          "output_type": "stream",
          "text": [
            "10\n"
          ]
        },
        {
          "name": "stderr",
          "output_type": "stream",
          "text": [
            "\r 23%|██▎       | 11/47 [00:09<00:28,  1.26it/s]"
          ]
        },
        {
          "name": "stdout",
          "output_type": "stream",
          "text": [
            "11\n"
          ]
        },
        {
          "name": "stderr",
          "output_type": "stream",
          "text": [
            "\r 26%|██▌       | 12/47 [00:10<00:26,  1.34it/s]"
          ]
        },
        {
          "name": "stdout",
          "output_type": "stream",
          "text": [
            "12\n"
          ]
        },
        {
          "name": "stderr",
          "output_type": "stream",
          "text": [
            "\r 28%|██▊       | 13/47 [00:11<00:27,  1.25it/s]"
          ]
        },
        {
          "name": "stdout",
          "output_type": "stream",
          "text": [
            "13\n"
          ]
        },
        {
          "name": "stderr",
          "output_type": "stream",
          "text": [
            "\r 30%|██▉       | 14/47 [00:11<00:24,  1.34it/s]"
          ]
        },
        {
          "name": "stdout",
          "output_type": "stream",
          "text": [
            "14\n"
          ]
        },
        {
          "name": "stderr",
          "output_type": "stream",
          "text": [
            "\r 32%|███▏      | 15/47 [00:12<00:23,  1.38it/s]"
          ]
        },
        {
          "name": "stdout",
          "output_type": "stream",
          "text": [
            "15\n"
          ]
        },
        {
          "name": "stderr",
          "output_type": "stream",
          "text": [
            "\r 34%|███▍      | 16/47 [00:13<00:24,  1.25it/s]"
          ]
        },
        {
          "name": "stdout",
          "output_type": "stream",
          "text": [
            "16\n"
          ]
        },
        {
          "name": "stderr",
          "output_type": "stream",
          "text": [
            "\r 36%|███▌      | 17/47 [00:14<00:22,  1.31it/s]"
          ]
        },
        {
          "name": "stdout",
          "output_type": "stream",
          "text": [
            "17\n"
          ]
        },
        {
          "name": "stderr",
          "output_type": "stream",
          "text": [
            "\r 38%|███▊      | 18/47 [00:14<00:21,  1.34it/s]"
          ]
        },
        {
          "name": "stdout",
          "output_type": "stream",
          "text": [
            "18\n"
          ]
        },
        {
          "name": "stderr",
          "output_type": "stream",
          "text": [
            "\r 40%|████      | 19/47 [00:15<00:20,  1.36it/s]"
          ]
        },
        {
          "name": "stdout",
          "output_type": "stream",
          "text": [
            "19\n"
          ]
        },
        {
          "name": "stderr",
          "output_type": "stream",
          "text": [
            "\r 43%|████▎     | 20/47 [00:15<00:16,  1.64it/s]"
          ]
        },
        {
          "name": "stdout",
          "output_type": "stream",
          "text": [
            "20\n"
          ]
        },
        {
          "name": "stderr",
          "output_type": "stream",
          "text": [
            "\r 45%|████▍     | 21/47 [00:16<00:16,  1.62it/s]"
          ]
        },
        {
          "name": "stdout",
          "output_type": "stream",
          "text": [
            "21\n"
          ]
        },
        {
          "name": "stderr",
          "output_type": "stream",
          "text": [
            "\r 47%|████▋     | 22/47 [00:17<00:15,  1.60it/s]"
          ]
        },
        {
          "name": "stdout",
          "output_type": "stream",
          "text": [
            "22\n"
          ]
        },
        {
          "name": "stderr",
          "output_type": "stream",
          "text": [
            "\r 49%|████▉     | 23/47 [00:17<00:14,  1.62it/s]"
          ]
        },
        {
          "name": "stdout",
          "output_type": "stream",
          "text": [
            "23\n"
          ]
        },
        {
          "name": "stderr",
          "output_type": "stream",
          "text": [
            "\r 51%|█████     | 24/47 [00:18<00:14,  1.64it/s]"
          ]
        },
        {
          "name": "stdout",
          "output_type": "stream",
          "text": [
            "24\n"
          ]
        },
        {
          "name": "stderr",
          "output_type": "stream",
          "text": [
            "\r 53%|█████▎    | 25/47 [00:19<00:13,  1.58it/s]"
          ]
        },
        {
          "name": "stdout",
          "output_type": "stream",
          "text": [
            "25\n"
          ]
        },
        {
          "name": "stderr",
          "output_type": "stream",
          "text": [
            "\r 55%|█████▌    | 26/47 [00:19<00:13,  1.52it/s]"
          ]
        },
        {
          "name": "stdout",
          "output_type": "stream",
          "text": [
            "26\n"
          ]
        },
        {
          "name": "stderr",
          "output_type": "stream",
          "text": [
            "\r 57%|█████▋    | 27/47 [00:20<00:12,  1.62it/s]"
          ]
        },
        {
          "name": "stdout",
          "output_type": "stream",
          "text": [
            "27\n"
          ]
        },
        {
          "name": "stderr",
          "output_type": "stream",
          "text": [
            "\r 60%|█████▉    | 28/47 [00:20<00:11,  1.64it/s]"
          ]
        },
        {
          "name": "stdout",
          "output_type": "stream",
          "text": [
            "28\n"
          ]
        },
        {
          "name": "stderr",
          "output_type": "stream",
          "text": [
            "\r 62%|██████▏   | 29/47 [00:21<00:10,  1.68it/s]"
          ]
        },
        {
          "name": "stdout",
          "output_type": "stream",
          "text": [
            "29\n"
          ]
        },
        {
          "name": "stderr",
          "output_type": "stream",
          "text": [
            "\r 64%|██████▍   | 30/47 [00:22<00:10,  1.64it/s]"
          ]
        },
        {
          "name": "stdout",
          "output_type": "stream",
          "text": [
            "30\n"
          ]
        },
        {
          "name": "stderr",
          "output_type": "stream",
          "text": [
            "\r 66%|██████▌   | 31/47 [00:22<00:09,  1.71it/s]"
          ]
        },
        {
          "name": "stdout",
          "output_type": "stream",
          "text": [
            "31\n"
          ]
        },
        {
          "name": "stderr",
          "output_type": "stream",
          "text": [
            "\r 68%|██████▊   | 32/47 [00:23<00:08,  1.72it/s]"
          ]
        },
        {
          "name": "stdout",
          "output_type": "stream",
          "text": [
            "32\n"
          ]
        },
        {
          "name": "stderr",
          "output_type": "stream",
          "text": [
            "\r 70%|███████   | 33/47 [00:23<00:08,  1.74it/s]"
          ]
        },
        {
          "name": "stdout",
          "output_type": "stream",
          "text": [
            "33\n"
          ]
        },
        {
          "name": "stderr",
          "output_type": "stream",
          "text": [
            "\r 72%|███████▏  | 34/47 [00:24<00:07,  1.77it/s]"
          ]
        },
        {
          "name": "stdout",
          "output_type": "stream",
          "text": [
            "34\n"
          ]
        },
        {
          "name": "stderr",
          "output_type": "stream",
          "text": [
            "\r 74%|███████▍  | 35/47 [00:24<00:06,  1.79it/s]"
          ]
        },
        {
          "name": "stdout",
          "output_type": "stream",
          "text": [
            "35\n"
          ]
        },
        {
          "name": "stderr",
          "output_type": "stream",
          "text": [
            "\r 77%|███████▋  | 36/47 [00:25<00:07,  1.45it/s]"
          ]
        },
        {
          "name": "stdout",
          "output_type": "stream",
          "text": [
            "36\n"
          ]
        },
        {
          "name": "stderr",
          "output_type": "stream",
          "text": [
            "\r 79%|███████▊  | 37/47 [00:26<00:06,  1.51it/s]"
          ]
        },
        {
          "name": "stdout",
          "output_type": "stream",
          "text": [
            "37\n"
          ]
        },
        {
          "name": "stderr",
          "output_type": "stream",
          "text": [
            "\r 81%|████████  | 38/47 [00:27<00:05,  1.52it/s]"
          ]
        },
        {
          "name": "stdout",
          "output_type": "stream",
          "text": [
            "38\n"
          ]
        },
        {
          "name": "stderr",
          "output_type": "stream",
          "text": [
            "\r 83%|████████▎ | 39/47 [00:27<00:05,  1.60it/s]"
          ]
        },
        {
          "name": "stdout",
          "output_type": "stream",
          "text": [
            "39\n"
          ]
        },
        {
          "name": "stderr",
          "output_type": "stream",
          "text": [
            "\r 85%|████████▌ | 40/47 [00:28<00:04,  1.63it/s]"
          ]
        },
        {
          "name": "stdout",
          "output_type": "stream",
          "text": [
            "40\n"
          ]
        },
        {
          "name": "stderr",
          "output_type": "stream",
          "text": [
            "\r 87%|████████▋ | 41/47 [00:28<00:03,  1.66it/s]"
          ]
        },
        {
          "name": "stdout",
          "output_type": "stream",
          "text": [
            "41\n"
          ]
        },
        {
          "name": "stderr",
          "output_type": "stream",
          "text": [
            "\r 89%|████████▉ | 42/47 [00:29<00:02,  1.68it/s]"
          ]
        },
        {
          "name": "stdout",
          "output_type": "stream",
          "text": [
            "42\n"
          ]
        },
        {
          "name": "stderr",
          "output_type": "stream",
          "text": [
            "\r 91%|█████████▏| 43/47 [00:30<00:02,  1.59it/s]"
          ]
        },
        {
          "name": "stdout",
          "output_type": "stream",
          "text": [
            "43\n"
          ]
        },
        {
          "name": "stderr",
          "output_type": "stream",
          "text": [
            "\r 94%|█████████▎| 44/47 [00:30<00:01,  1.57it/s]"
          ]
        },
        {
          "name": "stdout",
          "output_type": "stream",
          "text": [
            "44\n"
          ]
        },
        {
          "name": "stderr",
          "output_type": "stream",
          "text": [
            "\r 96%|█████████▌| 45/47 [00:31<00:01,  1.65it/s]"
          ]
        },
        {
          "name": "stdout",
          "output_type": "stream",
          "text": [
            "45\n"
          ]
        },
        {
          "name": "stderr",
          "output_type": "stream",
          "text": [
            "\r 98%|█████████▊| 46/47 [00:32<00:00,  1.33it/s]"
          ]
        },
        {
          "name": "stdout",
          "output_type": "stream",
          "text": [
            "46\n"
          ]
        },
        {
          "name": "stderr",
          "output_type": "stream",
          "text": [
            "100%|██████████| 47/47 [00:33<00:00,  1.42it/s]"
          ]
        },
        {
          "name": "stdout",
          "output_type": "stream",
          "text": [
            "47\n",
            "1409\n"
          ]
        },
        {
          "name": "stderr",
          "output_type": "stream",
          "text": [
            "\n"
          ]
        }
      ],
      "source": [
        "#scrapes webpage with functions.\n",
        "from tqdm import tqdm\n",
        "partialurl = \"https://onebite.app/reviews/dave?page=\"\n",
        "fullscore = []\n",
        "fullname = []\n",
        "fullcity = []\n",
        "fullstate = []\n",
        "fulldate = []\n",
        "full_links = []\n",
        "for i in tqdm(range(1,48)):\n",
        "  url = partialurl + str(i)\n",
        "  r = requests.get(url)\n",
        "  soup = bs(r.content)\n",
        "  \n",
        "  findscore()\n",
        "  fullscore.extend(findscore())\n",
        "  findname()\n",
        "  fullname.extend(findname())\n",
        "  findlocation()\n",
        "  fullcity.extend(findlocation()[0])\n",
        "  fullstate.extend(findlocation()[1])\n",
        "  finddate()\n",
        "  fulldate.extend(finddate())\n",
        "  findlinks()\n",
        "  full_links.extend(findlinks())\n",
        "  print(i)\n",
        "\n",
        "print(len(fullname))"
      ]
    },
    {
      "cell_type": "code",
      "execution_count": null,
      "metadata": {
        "colab": {
          "base_uri": "https://localhost:8080/"
        },
        "id": "tYCvoJ6fa53q",
        "outputId": "2524d2d8-bc71-44a6-8370-e6445c5b6fc1"
      },
      "outputs": [
        {
          "data": {
            "text/plain": [
              "('Rated 7.5 based on 7 reviews ',\n",
              " '324 Lafayette St, New York, NY',\n",
              " '1,160 Yelp Reviews',\n",
              " '/static/images/yelpstars/4.png',\n",
              " '7.4')"
            ]
          },
          "execution_count": 9,
          "metadata": {},
          "output_type": "execute_result"
        }
      ],
      "source": [
        "#Scrapes indiviudal links found within reviews. \n",
        "r = requests.get(full_links[1000])\n",
        "soup3 = bs(r.content)\n",
        "def linkscraper():\n",
        "\n",
        "  #Finds Fan Score as well as Number of Fan scores\n",
        "  findreview = soup3.find(\"div\", {\"class\": \"jsx-3741384636 ratingOverview\"})\n",
        "  #Finds location\n",
        "  findlocation = soup3.find(\"div\", {\"class\": \"jsx-1801792103 location\"})\n",
        "  #Finds Yelp star of restaurant and number of yelp reviews\n",
        "  findyelp = soup3.find(\"div\", {\"class\": \"jsx-2286811264 yelpRating\"})\n",
        "  #Finds Fan score\n",
        "  findfanscore = soup3.find_all('span', {'class': 'jsx-a5500dd5647157b0 score'})\n",
        "  try:\n",
        "    findstar = findyelp.find('img')\n",
        "  except:\n",
        "    findstar = None\n",
        "\n",
        "\n",
        "  if findreview is not None:\n",
        "    reviewsfound = findreview.get_text()\n",
        "  else:\n",
        "    reviewsfound = \"\"\n",
        "  if findlocation is not None:\n",
        "    locationfound = findlocation.get_text()\n",
        "  else:\n",
        "    locationfound = \"\"\n",
        "  if findyelp is not None:\n",
        "    yelpfound = findyelp.get_text()\n",
        "  else:\n",
        "    yelpfound = \"\"\n",
        "  if findstar is not None:\n",
        "    starfound = findstar['src']\n",
        "  else:\n",
        "    starfound = \"\"\n",
        "  if len(findfanscore) > 1 and findfanscore[1] is not None:\n",
        "    fanscorefound = findfanscore[1].get_text()\n",
        "  else:\n",
        "    fanscorefound = \"\"\n",
        "\n",
        "  return reviewsfound, locationfound, yelpfound, starfound, fanscorefound\n",
        "linkscraper()"
      ]
    },
    {
      "cell_type": "code",
      "execution_count": null,
      "metadata": {
        "colab": {
          "base_uri": "https://localhost:8080/"
        },
        "id": "YpLP0too86X5",
        "outputId": "703568df-4e3c-4954-840c-c7f2dfee0c75"
      },
      "outputs": [
        {
          "name": "stderr",
          "output_type": "stream",
          "text": [
            "100%|██████████| 1409/1409 [04:38<00:00,  5.06it/s]\n"
          ]
        }
      ],
      "source": [
        "#Scrapes the webpages. \n",
        "from tqdm import tqdm\n",
        "full_reviews = []\n",
        "full_location = []\n",
        "full_yelp = []\n",
        "full_star = []\n",
        "full_fanscore = []\n",
        "for i in tqdm(full_links):\n",
        "  r = requests.get(i)\n",
        "  soup3 = bs(r.content)\n",
        "  a, b, c, d , e = linkscraper()\n",
        "  full_reviews.append(a)\n",
        "  full_location.append(b)\n",
        "  full_yelp.append(c)\n",
        "  full_star.append(d)\n",
        "  full_fanscore.append(e)\n",
        "\n",
        "\n"
      ]
    },
    {
      "cell_type": "code",
      "execution_count": null,
      "metadata": {
        "id": "MiEqBe_LSBTh"
      },
      "outputs": [],
      "source": [
        "full_reviews"
      ]
    },
    {
      "cell_type": "code",
      "execution_count": null,
      "metadata": {
        "id": "a3zTplkfOlOF"
      },
      "outputs": [],
      "source": [
        "numbers = []\n",
        "for string in full_reviews:\n",
        "  try:\n",
        "    number = string.split('on')[1].split(' ')[1]\n",
        "  except IndexError:\n",
        "    number = \"\"\n",
        "  numbers.append(number)\n",
        "len(numbers)\n",
        "numbers"
      ]
    },
    {
      "cell_type": "code",
      "execution_count": null,
      "metadata": {
        "colab": {
          "base_uri": "https://localhost:8080/"
        },
        "id": "A3oo6lUoRNIQ",
        "outputId": "5ffd5f41-d131-4998-c989-cccd73f33691"
      },
      "outputs": [
        {
          "data": {
            "text/plain": [
              "1409"
            ]
          },
          "execution_count": 13,
          "metadata": {},
          "output_type": "execute_result"
        }
      ],
      "source": [
        "numberofstars = []\n",
        "for i in full_star:\n",
        "  try:\n",
        "    u = i.split('/')[-1]\n",
        "    g = u.replace('_', \".\")\n",
        "    q = g.replace('.png', '')\n",
        "    numberofstars.append(q)\n",
        "  except:\n",
        "    numberofstars.append(\"\")\n",
        "len(numberofstars)\n"
      ]
    },
    {
      "cell_type": "code",
      "execution_count": null,
      "metadata": {
        "colab": {
          "base_uri": "https://localhost:8080/"
        },
        "id": "VrkUVphJHAuu",
        "outputId": "5dc79aa8-f4a4-4b88-c494-64d59d8297a6"
      },
      "outputs": [
        {
          "data": {
            "text/plain": [
              "1409"
            ]
          },
          "execution_count": 14,
          "metadata": {},
          "output_type": "execute_result"
        }
      ],
      "source": [
        "yelpreviews = []\n",
        "for i in full_yelp:\n",
        "  try:\n",
        "    l = i.split(\" \")\n",
        "    yelpreviews.append(l[0])\n",
        "  except:\n",
        "    yelpreviews.append(\"\")\n",
        "len(yelpreviews)"
      ]
    },
    {
      "cell_type": "code",
      "execution_count": null,
      "metadata": {
        "colab": {
          "base_uri": "https://localhost:8080/",
          "height": 659
        },
        "id": "PnZOb7PXP40a",
        "outputId": "638e20fa-c88e-4659-8631-0ee6bbbea942"
      },
      "outputs": [
        {
          "data": {
            "text/html": [
              "\n",
              "  <div id=\"df-dc3a5e08-a6fe-44b3-918e-37cc2026c027\">\n",
              "    <div class=\"colab-df-container\">\n",
              "      <div>\n",
              "<style scoped>\n",
              "    .dataframe tbody tr th:only-of-type {\n",
              "        vertical-align: middle;\n",
              "    }\n",
              "\n",
              "    .dataframe tbody tr th {\n",
              "        vertical-align: top;\n",
              "    }\n",
              "\n",
              "    .dataframe thead th {\n",
              "        text-align: right;\n",
              "    }\n",
              "</style>\n",
              "<table border=\"1\" class=\"dataframe\">\n",
              "  <thead>\n",
              "    <tr style=\"text-align: right;\">\n",
              "      <th></th>\n",
              "      <th>Resturant</th>\n",
              "      <th>City</th>\n",
              "      <th>State</th>\n",
              "      <th>Date</th>\n",
              "      <th>Dave Score</th>\n",
              "      <th>Fan Score</th>\n",
              "      <th>Number of OneBite Reviews</th>\n",
              "      <th>Yelp Stars</th>\n",
              "      <th>Number of Yelp Reviews</th>\n",
              "      <th>Location</th>\n",
              "      <th>Links</th>\n",
              "    </tr>\n",
              "  </thead>\n",
              "  <tbody>\n",
              "    <tr>\n",
              "      <th>0</th>\n",
              "      <td>Dicey's Tavern</td>\n",
              "      <td>Nashville</td>\n",
              "      <td>TN</td>\n",
              "      <td>22</td>\n",
              "      <td>7.7</td>\n",
              "      <td>0.0</td>\n",
              "      <td>1</td>\n",
              "      <td>4.5</td>\n",
              "      <td>85</td>\n",
              "      <td>425 Chestnut St, Nashville, TN</td>\n",
              "      <td>https://onebite.app/restaurant/diceys-tavern-n...</td>\n",
              "    </tr>\n",
              "    <tr>\n",
              "      <th>1</th>\n",
              "      <td>Manny's House of Pizza</td>\n",
              "      <td>Nashville</td>\n",
              "      <td>TN</td>\n",
              "      <td>2</td>\n",
              "      <td>7.9</td>\n",
              "      <td>8.0</td>\n",
              "      <td>54</td>\n",
              "      <td>4.5</td>\n",
              "      <td>180</td>\n",
              "      <td>15 Arcade Building, Nashville, TN</td>\n",
              "      <td>https://onebite.app/restaurant/mannys-house-of...</td>\n",
              "    </tr>\n",
              "    <tr>\n",
              "      <th>2</th>\n",
              "      <td>Nicky's Coal Fired</td>\n",
              "      <td>Nashville</td>\n",
              "      <td>TN</td>\n",
              "      <td>3</td>\n",
              "      <td>7.6</td>\n",
              "      <td>7.4</td>\n",
              "      <td>23</td>\n",
              "      <td>4</td>\n",
              "      <td>260</td>\n",
              "      <td>5026 Centennial Blvd, Nashville, TN</td>\n",
              "      <td>https://onebite.app/restaurant/nickys-coal-fir...</td>\n",
              "    </tr>\n",
              "    <tr>\n",
              "      <th>3</th>\n",
              "      <td>Midnight Oil</td>\n",
              "      <td>Nashville</td>\n",
              "      <td>TN</td>\n",
              "      <td>4</td>\n",
              "      <td>6.4</td>\n",
              "      <td>8.1</td>\n",
              "      <td>32</td>\n",
              "      <td>4.5</td>\n",
              "      <td>72</td>\n",
              "      <td>1312 51st Ave N, Nashville, TN</td>\n",
              "      <td>https://onebite.app/restaurant/midnight-oil-na...</td>\n",
              "    </tr>\n",
              "    <tr>\n",
              "      <th>4</th>\n",
              "      <td>Krust</td>\n",
              "      <td>Tavernier</td>\n",
              "      <td>FL</td>\n",
              "      <td>5</td>\n",
              "      <td>7.7</td>\n",
              "      <td>0.0</td>\n",
              "      <td>1</td>\n",
              "      <td>5</td>\n",
              "      <td>11</td>\n",
              "      <td>91865 Overseas Hwy, Tavernier, FL</td>\n",
              "      <td>https://onebite.app/restaurant/krust-tavernier...</td>\n",
              "    </tr>\n",
              "    <tr>\n",
              "      <th>...</th>\n",
              "      <td>...</td>\n",
              "      <td>...</td>\n",
              "      <td>...</td>\n",
              "      <td>...</td>\n",
              "      <td>...</td>\n",
              "      <td>...</td>\n",
              "      <td>...</td>\n",
              "      <td>...</td>\n",
              "      <td>...</td>\n",
              "      <td>...</td>\n",
              "      <td>...</td>\n",
              "    </tr>\n",
              "    <tr>\n",
              "      <th>1404</th>\n",
              "      <td>Bianchi's Pizza</td>\n",
              "      <td>Revere</td>\n",
              "      <td>MA</td>\n",
              "      <td>4/9/13</td>\n",
              "      <td>8.2</td>\n",
              "      <td>8.1</td>\n",
              "      <td>32</td>\n",
              "      <td>4</td>\n",
              "      <td>255</td>\n",
              "      <td>381 Revere Beach Blvd, Revere, MA</td>\n",
              "      <td>https://onebite.app/restaurant/bianchis-pizza-...</td>\n",
              "    </tr>\n",
              "    <tr>\n",
              "      <th>1405</th>\n",
              "      <td>Tony's Place</td>\n",
              "      <td>West Roxbury</td>\n",
              "      <td>MA</td>\n",
              "      <td>4/3/13</td>\n",
              "      <td>8.5</td>\n",
              "      <td>8.3</td>\n",
              "      <td>54</td>\n",
              "      <td>3.5</td>\n",
              "      <td>101</td>\n",
              "      <td>188 Baker St, West Roxbury, MA</td>\n",
              "      <td>https://onebite.app/restaurant/tonys-place-wes...</td>\n",
              "    </tr>\n",
              "    <tr>\n",
              "      <th>1406</th>\n",
              "      <td>Cape Cod Cafe</td>\n",
              "      <td>Brockton</td>\n",
              "      <td>MA</td>\n",
              "      <td>4/2/13</td>\n",
              "      <td>8.5</td>\n",
              "      <td>8.3</td>\n",
              "      <td>58</td>\n",
              "      <td>4</td>\n",
              "      <td>255</td>\n",
              "      <td>979 Main St, Brockton, MA</td>\n",
              "      <td>https://onebite.app/restaurant/cape-cod-cafe-b...</td>\n",
              "    </tr>\n",
              "    <tr>\n",
              "      <th>1407</th>\n",
              "      <td>Lynwood Cafe</td>\n",
              "      <td>Randolph</td>\n",
              "      <td>MA</td>\n",
              "      <td>3/14/13</td>\n",
              "      <td>8.0</td>\n",
              "      <td>8.3</td>\n",
              "      <td>95</td>\n",
              "      <td>4</td>\n",
              "      <td>402</td>\n",
              "      <td>320 Center St, Randolph, MA</td>\n",
              "      <td>https://onebite.app/restaurant/lynwood-cafe-ra...</td>\n",
              "    </tr>\n",
              "    <tr>\n",
              "      <th>1408</th>\n",
              "      <td>Town Spa Pizza</td>\n",
              "      <td>Stoughton</td>\n",
              "      <td>MA</td>\n",
              "      <td>3/13/13</td>\n",
              "      <td>9.0</td>\n",
              "      <td>8.4</td>\n",
              "      <td>222</td>\n",
              "      <td>3.5</td>\n",
              "      <td>566</td>\n",
              "      <td>1119 Washington St, Stoughton, MA</td>\n",
              "      <td>https://onebite.app/restaurant/town-spa-pizza-...</td>\n",
              "    </tr>\n",
              "  </tbody>\n",
              "</table>\n",
              "<p>1409 rows × 11 columns</p>\n",
              "</div>\n",
              "      <button class=\"colab-df-convert\" onclick=\"convertToInteractive('df-dc3a5e08-a6fe-44b3-918e-37cc2026c027')\"\n",
              "              title=\"Convert this dataframe to an interactive table.\"\n",
              "              style=\"display:none;\">\n",
              "        \n",
              "  <svg xmlns=\"http://www.w3.org/2000/svg\" height=\"24px\"viewBox=\"0 0 24 24\"\n",
              "       width=\"24px\">\n",
              "    <path d=\"M0 0h24v24H0V0z\" fill=\"none\"/>\n",
              "    <path d=\"M18.56 5.44l.94 2.06.94-2.06 2.06-.94-2.06-.94-.94-2.06-.94 2.06-2.06.94zm-11 1L8.5 8.5l.94-2.06 2.06-.94-2.06-.94L8.5 2.5l-.94 2.06-2.06.94zm10 10l.94 2.06.94-2.06 2.06-.94-2.06-.94-.94-2.06-.94 2.06-2.06.94z\"/><path d=\"M17.41 7.96l-1.37-1.37c-.4-.4-.92-.59-1.43-.59-.52 0-1.04.2-1.43.59L10.3 9.45l-7.72 7.72c-.78.78-.78 2.05 0 2.83L4 21.41c.39.39.9.59 1.41.59.51 0 1.02-.2 1.41-.59l7.78-7.78 2.81-2.81c.8-.78.8-2.07 0-2.86zM5.41 20L4 18.59l7.72-7.72 1.47 1.35L5.41 20z\"/>\n",
              "  </svg>\n",
              "      </button>\n",
              "      \n",
              "  <style>\n",
              "    .colab-df-container {\n",
              "      display:flex;\n",
              "      flex-wrap:wrap;\n",
              "      gap: 12px;\n",
              "    }\n",
              "\n",
              "    .colab-df-convert {\n",
              "      background-color: #E8F0FE;\n",
              "      border: none;\n",
              "      border-radius: 50%;\n",
              "      cursor: pointer;\n",
              "      display: none;\n",
              "      fill: #1967D2;\n",
              "      height: 32px;\n",
              "      padding: 0 0 0 0;\n",
              "      width: 32px;\n",
              "    }\n",
              "\n",
              "    .colab-df-convert:hover {\n",
              "      background-color: #E2EBFA;\n",
              "      box-shadow: 0px 1px 2px rgba(60, 64, 67, 0.3), 0px 1px 3px 1px rgba(60, 64, 67, 0.15);\n",
              "      fill: #174EA6;\n",
              "    }\n",
              "\n",
              "    [theme=dark] .colab-df-convert {\n",
              "      background-color: #3B4455;\n",
              "      fill: #D2E3FC;\n",
              "    }\n",
              "\n",
              "    [theme=dark] .colab-df-convert:hover {\n",
              "      background-color: #434B5C;\n",
              "      box-shadow: 0px 1px 3px 1px rgba(0, 0, 0, 0.15);\n",
              "      filter: drop-shadow(0px 1px 2px rgba(0, 0, 0, 0.3));\n",
              "      fill: #FFFFFF;\n",
              "    }\n",
              "  </style>\n",
              "\n",
              "      <script>\n",
              "        const buttonEl =\n",
              "          document.querySelector('#df-dc3a5e08-a6fe-44b3-918e-37cc2026c027 button.colab-df-convert');\n",
              "        buttonEl.style.display =\n",
              "          google.colab.kernel.accessAllowed ? 'block' : 'none';\n",
              "\n",
              "        async function convertToInteractive(key) {\n",
              "          const element = document.querySelector('#df-dc3a5e08-a6fe-44b3-918e-37cc2026c027');\n",
              "          const dataTable =\n",
              "            await google.colab.kernel.invokeFunction('convertToInteractive',\n",
              "                                                     [key], {});\n",
              "          if (!dataTable) return;\n",
              "\n",
              "          const docLinkHtml = 'Like what you see? Visit the ' +\n",
              "            '<a target=\"_blank\" href=https://colab.research.google.com/notebooks/data_table.ipynb>data table notebook</a>'\n",
              "            + ' to learn more about interactive tables.';\n",
              "          element.innerHTML = '';\n",
              "          dataTable['output_type'] = 'display_data';\n",
              "          await google.colab.output.renderOutput(dataTable, element);\n",
              "          const docLink = document.createElement('div');\n",
              "          docLink.innerHTML = docLinkHtml;\n",
              "          element.appendChild(docLink);\n",
              "        }\n",
              "      </script>\n",
              "    </div>\n",
              "  </div>\n",
              "  "
            ],
            "text/plain": [
              "                   Resturant          City State     Date  Dave Score  \\\n",
              "0             Dicey's Tavern     Nashville    TN       22         7.7   \n",
              "1     Manny's House of Pizza     Nashville    TN        2         7.9   \n",
              "2         Nicky's Coal Fired     Nashville    TN        3         7.6   \n",
              "3               Midnight Oil     Nashville    TN        4         6.4   \n",
              "4                     Krust      Tavernier    FL        5         7.7   \n",
              "...                      ...           ...   ...      ...         ...   \n",
              "1404         Bianchi's Pizza        Revere    MA   4/9/13         8.2   \n",
              "1405            Tony's Place  West Roxbury    MA   4/3/13         8.5   \n",
              "1406           Cape Cod Cafe      Brockton    MA   4/2/13         8.5   \n",
              "1407            Lynwood Cafe      Randolph    MA  3/14/13         8.0   \n",
              "1408          Town Spa Pizza     Stoughton    MA  3/13/13         9.0   \n",
              "\n",
              "     Fan Score Number of OneBite Reviews Yelp Stars Number of Yelp Reviews  \\\n",
              "0          0.0                         1        4.5                     85   \n",
              "1          8.0                        54        4.5                    180   \n",
              "2          7.4                        23          4                    260   \n",
              "3          8.1                        32        4.5                     72   \n",
              "4          0.0                         1          5                     11   \n",
              "...        ...                       ...        ...                    ...   \n",
              "1404       8.1                        32          4                    255   \n",
              "1405       8.3                        54        3.5                    101   \n",
              "1406       8.3                        58          4                    255   \n",
              "1407       8.3                        95          4                    402   \n",
              "1408       8.4                       222        3.5                    566   \n",
              "\n",
              "                                 Location  \\\n",
              "0          425 Chestnut St, Nashville, TN   \n",
              "1       15 Arcade Building, Nashville, TN   \n",
              "2     5026 Centennial Blvd, Nashville, TN   \n",
              "3          1312 51st Ave N, Nashville, TN   \n",
              "4       91865 Overseas Hwy, Tavernier, FL   \n",
              "...                                   ...   \n",
              "1404    381 Revere Beach Blvd, Revere, MA   \n",
              "1405       188 Baker St, West Roxbury, MA   \n",
              "1406            979 Main St, Brockton, MA   \n",
              "1407          320 Center St, Randolph, MA   \n",
              "1408    1119 Washington St, Stoughton, MA   \n",
              "\n",
              "                                                  Links  \n",
              "0     https://onebite.app/restaurant/diceys-tavern-n...  \n",
              "1     https://onebite.app/restaurant/mannys-house-of...  \n",
              "2     https://onebite.app/restaurant/nickys-coal-fir...  \n",
              "3     https://onebite.app/restaurant/midnight-oil-na...  \n",
              "4     https://onebite.app/restaurant/krust-tavernier...  \n",
              "...                                                 ...  \n",
              "1404  https://onebite.app/restaurant/bianchis-pizza-...  \n",
              "1405  https://onebite.app/restaurant/tonys-place-wes...  \n",
              "1406  https://onebite.app/restaurant/cape-cod-cafe-b...  \n",
              "1407  https://onebite.app/restaurant/lynwood-cafe-ra...  \n",
              "1408  https://onebite.app/restaurant/town-spa-pizza-...  \n",
              "\n",
              "[1409 rows x 11 columns]"
            ]
          },
          "execution_count": 15,
          "metadata": {},
          "output_type": "execute_result"
        }
      ],
      "source": [
        "import pandas as pd\n",
        "df = pd.DataFrame({\"restaurant\":fullname,\"city\":fullcity,\"state\":fullstate,\"date\":fulldate, \"dave_score\":fullscore,\"fan_score\":full_fanscore,\"onebite_reviews\":numbers,\"yelp_stars\":numberofstars, \"yelp_reviews\":yelpreviews, \"location\":full_location, \"site_links\":full_links})\n",
        "df"
      ]
    },
    {
      "cell_type": "code",
      "execution_count": null,
      "metadata": {
        "colab": {
          "base_uri": "https://localhost:8080/"
        },
        "id": "pFfNz4hWzwJO",
        "outputId": "9b8c352b-5fe0-4448-f300-ea62fd00678f"
      },
      "outputs": [
        {
          "name": "stderr",
          "output_type": "stream",
          "text": [
            "100%|██████████| 1409/1409 [02:09<00:00, 10.90it/s]\n"
          ]
        }
      ],
      "source": [
        "import googlemaps\n",
        "#Finds cords of restaurant. \n",
        "gmaps = googlemaps.Client(key=google_key)\n",
        "lats = []\n",
        "lngs = []\n",
        "\n",
        "for address in tqdm(df[\"Location\"]):\n",
        "    if not address:  # Check if address is empty or None\n",
        "        lats.append(None)\n",
        "        lngs.append(None)\n",
        "        continue  # Skip the rest of the loop and move to the next iteration\n",
        "\n",
        "    geocode_result = gmaps.geocode(address)\n",
        "    if len(geocode_result) > 0:\n",
        "      lat = geocode_result[0]['geometry']['location']['lat']\n",
        "      lng = geocode_result[0]['geometry']['location']['lng']\n",
        "    else:\n",
        "      lat = None\n",
        "      lng = None\n",
        "\n",
        "    lats.append(lat)\n",
        "    lngs.append(lng)"
      ]
    },
    {
      "cell_type": "code",
      "execution_count": null,
      "metadata": {
        "id": "_vs37i852HJc"
      },
      "outputs": [],
      "source": [
        "df[\"latitude\"] = pd.Series(lats)\n",
        "df[\"longitude\"]= pd.Series(lngs)"
      ]
    },
    {
      "cell_type": "code",
      "execution_count": null,
      "metadata": {
        "colab": {
          "base_uri": "https://localhost:8080/",
          "height": 676
        },
        "id": "oKOhrPeqXLFW",
        "outputId": "15a58b45-b67d-43e3-f8df-1fe1b7071e47"
      },
      "outputs": [
        {
          "data": {
            "text/html": [
              "\n",
              "  <div id=\"df-5c6090cc-8892-491f-bb95-be9e8fc900d4\">\n",
              "    <div class=\"colab-df-container\">\n",
              "      <div>\n",
              "<style scoped>\n",
              "    .dataframe tbody tr th:only-of-type {\n",
              "        vertical-align: middle;\n",
              "    }\n",
              "\n",
              "    .dataframe tbody tr th {\n",
              "        vertical-align: top;\n",
              "    }\n",
              "\n",
              "    .dataframe thead th {\n",
              "        text-align: right;\n",
              "    }\n",
              "</style>\n",
              "<table border=\"1\" class=\"dataframe\">\n",
              "  <thead>\n",
              "    <tr style=\"text-align: right;\">\n",
              "      <th></th>\n",
              "      <th>Resturant</th>\n",
              "      <th>City</th>\n",
              "      <th>State</th>\n",
              "      <th>Date</th>\n",
              "      <th>Dave Score</th>\n",
              "      <th>Fan Score</th>\n",
              "      <th>Number of OneBite Reviews</th>\n",
              "      <th>Yelp Stars</th>\n",
              "      <th>Number of Yelp Reviews</th>\n",
              "      <th>Location</th>\n",
              "      <th>Links</th>\n",
              "      <th>Latitude</th>\n",
              "      <th>Longitude</th>\n",
              "    </tr>\n",
              "  </thead>\n",
              "  <tbody>\n",
              "    <tr>\n",
              "      <th>0</th>\n",
              "      <td>Dicey's Tavern</td>\n",
              "      <td>Nashville</td>\n",
              "      <td>TN</td>\n",
              "      <td>22</td>\n",
              "      <td>7.7</td>\n",
              "      <td>0.0</td>\n",
              "      <td>1</td>\n",
              "      <td>4.5</td>\n",
              "      <td>85</td>\n",
              "      <td>425 Chestnut St, Nashville, TN</td>\n",
              "      <td>https://onebite.app/restaurant/diceys-tavern-n...</td>\n",
              "      <td>36.144069</td>\n",
              "      <td>-86.768038</td>\n",
              "    </tr>\n",
              "    <tr>\n",
              "      <th>1</th>\n",
              "      <td>Manny's House of Pizza</td>\n",
              "      <td>Nashville</td>\n",
              "      <td>TN</td>\n",
              "      <td>2</td>\n",
              "      <td>7.9</td>\n",
              "      <td>8.0</td>\n",
              "      <td>54</td>\n",
              "      <td>4.5</td>\n",
              "      <td>180</td>\n",
              "      <td>15 Arcade Building, Nashville, TN</td>\n",
              "      <td>https://onebite.app/restaurant/mannys-house-of...</td>\n",
              "      <td>36.162664</td>\n",
              "      <td>-86.781602</td>\n",
              "    </tr>\n",
              "    <tr>\n",
              "      <th>2</th>\n",
              "      <td>Nicky's Coal Fired</td>\n",
              "      <td>Nashville</td>\n",
              "      <td>TN</td>\n",
              "      <td>3</td>\n",
              "      <td>7.6</td>\n",
              "      <td>7.4</td>\n",
              "      <td>23</td>\n",
              "      <td>4</td>\n",
              "      <td>260</td>\n",
              "      <td>5026 Centennial Blvd, Nashville, TN</td>\n",
              "      <td>https://onebite.app/restaurant/nickys-coal-fir...</td>\n",
              "      <td>36.162462</td>\n",
              "      <td>-86.848713</td>\n",
              "    </tr>\n",
              "    <tr>\n",
              "      <th>3</th>\n",
              "      <td>Midnight Oil</td>\n",
              "      <td>Nashville</td>\n",
              "      <td>TN</td>\n",
              "      <td>4</td>\n",
              "      <td>6.4</td>\n",
              "      <td>8.1</td>\n",
              "      <td>32</td>\n",
              "      <td>4.5</td>\n",
              "      <td>72</td>\n",
              "      <td>1312 51st Ave N, Nashville, TN</td>\n",
              "      <td>https://onebite.app/restaurant/midnight-oil-na...</td>\n",
              "      <td>36.161784</td>\n",
              "      <td>-86.849091</td>\n",
              "    </tr>\n",
              "    <tr>\n",
              "      <th>4</th>\n",
              "      <td>Krust</td>\n",
              "      <td>Tavernier</td>\n",
              "      <td>FL</td>\n",
              "      <td>5</td>\n",
              "      <td>7.7</td>\n",
              "      <td>0.0</td>\n",
              "      <td>1</td>\n",
              "      <td>5</td>\n",
              "      <td>11</td>\n",
              "      <td>91865 Overseas Hwy, Tavernier, FL</td>\n",
              "      <td>https://onebite.app/restaurant/krust-tavernier...</td>\n",
              "      <td>25.009054</td>\n",
              "      <td>-80.517027</td>\n",
              "    </tr>\n",
              "    <tr>\n",
              "      <th>...</th>\n",
              "      <td>...</td>\n",
              "      <td>...</td>\n",
              "      <td>...</td>\n",
              "      <td>...</td>\n",
              "      <td>...</td>\n",
              "      <td>...</td>\n",
              "      <td>...</td>\n",
              "      <td>...</td>\n",
              "      <td>...</td>\n",
              "      <td>...</td>\n",
              "      <td>...</td>\n",
              "      <td>...</td>\n",
              "      <td>...</td>\n",
              "    </tr>\n",
              "    <tr>\n",
              "      <th>1404</th>\n",
              "      <td>Bianchi's Pizza</td>\n",
              "      <td>Revere</td>\n",
              "      <td>MA</td>\n",
              "      <td>4/9/13</td>\n",
              "      <td>8.2</td>\n",
              "      <td>8.1</td>\n",
              "      <td>32</td>\n",
              "      <td>4</td>\n",
              "      <td>255</td>\n",
              "      <td>381 Revere Beach Blvd, Revere, MA</td>\n",
              "      <td>https://onebite.app/restaurant/bianchis-pizza-...</td>\n",
              "      <td>42.422446</td>\n",
              "      <td>-70.984737</td>\n",
              "    </tr>\n",
              "    <tr>\n",
              "      <th>1405</th>\n",
              "      <td>Tony's Place</td>\n",
              "      <td>West Roxbury</td>\n",
              "      <td>MA</td>\n",
              "      <td>4/3/13</td>\n",
              "      <td>8.5</td>\n",
              "      <td>8.3</td>\n",
              "      <td>54</td>\n",
              "      <td>3.5</td>\n",
              "      <td>101</td>\n",
              "      <td>188 Baker St, West Roxbury, MA</td>\n",
              "      <td>https://onebite.app/restaurant/tonys-place-wes...</td>\n",
              "      <td>42.276013</td>\n",
              "      <td>-71.167248</td>\n",
              "    </tr>\n",
              "    <tr>\n",
              "      <th>1406</th>\n",
              "      <td>Cape Cod Cafe</td>\n",
              "      <td>Brockton</td>\n",
              "      <td>MA</td>\n",
              "      <td>4/2/13</td>\n",
              "      <td>8.5</td>\n",
              "      <td>8.3</td>\n",
              "      <td>58</td>\n",
              "      <td>4</td>\n",
              "      <td>255</td>\n",
              "      <td>979 Main St, Brockton, MA</td>\n",
              "      <td>https://onebite.app/restaurant/cape-cod-cafe-b...</td>\n",
              "      <td>42.066040</td>\n",
              "      <td>-71.016565</td>\n",
              "    </tr>\n",
              "    <tr>\n",
              "      <th>1407</th>\n",
              "      <td>Lynwood Cafe</td>\n",
              "      <td>Randolph</td>\n",
              "      <td>MA</td>\n",
              "      <td>3/14/13</td>\n",
              "      <td>8.0</td>\n",
              "      <td>8.3</td>\n",
              "      <td>95</td>\n",
              "      <td>4</td>\n",
              "      <td>402</td>\n",
              "      <td>320 Center St, Randolph, MA</td>\n",
              "      <td>https://onebite.app/restaurant/lynwood-cafe-ra...</td>\n",
              "      <td>42.152170</td>\n",
              "      <td>-71.030641</td>\n",
              "    </tr>\n",
              "    <tr>\n",
              "      <th>1408</th>\n",
              "      <td>Town Spa Pizza</td>\n",
              "      <td>Stoughton</td>\n",
              "      <td>MA</td>\n",
              "      <td>3/13/13</td>\n",
              "      <td>9.0</td>\n",
              "      <td>8.4</td>\n",
              "      <td>222</td>\n",
              "      <td>3.5</td>\n",
              "      <td>566</td>\n",
              "      <td>1119 Washington St, Stoughton, MA</td>\n",
              "      <td>https://onebite.app/restaurant/town-spa-pizza-...</td>\n",
              "      <td>42.114942</td>\n",
              "      <td>-71.101170</td>\n",
              "    </tr>\n",
              "  </tbody>\n",
              "</table>\n",
              "<p>1409 rows × 13 columns</p>\n",
              "</div>\n",
              "      <button class=\"colab-df-convert\" onclick=\"convertToInteractive('df-5c6090cc-8892-491f-bb95-be9e8fc900d4')\"\n",
              "              title=\"Convert this dataframe to an interactive table.\"\n",
              "              style=\"display:none;\">\n",
              "        \n",
              "  <svg xmlns=\"http://www.w3.org/2000/svg\" height=\"24px\"viewBox=\"0 0 24 24\"\n",
              "       width=\"24px\">\n",
              "    <path d=\"M0 0h24v24H0V0z\" fill=\"none\"/>\n",
              "    <path d=\"M18.56 5.44l.94 2.06.94-2.06 2.06-.94-2.06-.94-.94-2.06-.94 2.06-2.06.94zm-11 1L8.5 8.5l.94-2.06 2.06-.94-2.06-.94L8.5 2.5l-.94 2.06-2.06.94zm10 10l.94 2.06.94-2.06 2.06-.94-2.06-.94-.94-2.06-.94 2.06-2.06.94z\"/><path d=\"M17.41 7.96l-1.37-1.37c-.4-.4-.92-.59-1.43-.59-.52 0-1.04.2-1.43.59L10.3 9.45l-7.72 7.72c-.78.78-.78 2.05 0 2.83L4 21.41c.39.39.9.59 1.41.59.51 0 1.02-.2 1.41-.59l7.78-7.78 2.81-2.81c.8-.78.8-2.07 0-2.86zM5.41 20L4 18.59l7.72-7.72 1.47 1.35L5.41 20z\"/>\n",
              "  </svg>\n",
              "      </button>\n",
              "      \n",
              "  <style>\n",
              "    .colab-df-container {\n",
              "      display:flex;\n",
              "      flex-wrap:wrap;\n",
              "      gap: 12px;\n",
              "    }\n",
              "\n",
              "    .colab-df-convert {\n",
              "      background-color: #E8F0FE;\n",
              "      border: none;\n",
              "      border-radius: 50%;\n",
              "      cursor: pointer;\n",
              "      display: none;\n",
              "      fill: #1967D2;\n",
              "      height: 32px;\n",
              "      padding: 0 0 0 0;\n",
              "      width: 32px;\n",
              "    }\n",
              "\n",
              "    .colab-df-convert:hover {\n",
              "      background-color: #E2EBFA;\n",
              "      box-shadow: 0px 1px 2px rgba(60, 64, 67, 0.3), 0px 1px 3px 1px rgba(60, 64, 67, 0.15);\n",
              "      fill: #174EA6;\n",
              "    }\n",
              "\n",
              "    [theme=dark] .colab-df-convert {\n",
              "      background-color: #3B4455;\n",
              "      fill: #D2E3FC;\n",
              "    }\n",
              "\n",
              "    [theme=dark] .colab-df-convert:hover {\n",
              "      background-color: #434B5C;\n",
              "      box-shadow: 0px 1px 3px 1px rgba(0, 0, 0, 0.15);\n",
              "      filter: drop-shadow(0px 1px 2px rgba(0, 0, 0, 0.3));\n",
              "      fill: #FFFFFF;\n",
              "    }\n",
              "  </style>\n",
              "\n",
              "      <script>\n",
              "        const buttonEl =\n",
              "          document.querySelector('#df-5c6090cc-8892-491f-bb95-be9e8fc900d4 button.colab-df-convert');\n",
              "        buttonEl.style.display =\n",
              "          google.colab.kernel.accessAllowed ? 'block' : 'none';\n",
              "\n",
              "        async function convertToInteractive(key) {\n",
              "          const element = document.querySelector('#df-5c6090cc-8892-491f-bb95-be9e8fc900d4');\n",
              "          const dataTable =\n",
              "            await google.colab.kernel.invokeFunction('convertToInteractive',\n",
              "                                                     [key], {});\n",
              "          if (!dataTable) return;\n",
              "\n",
              "          const docLinkHtml = 'Like what you see? Visit the ' +\n",
              "            '<a target=\"_blank\" href=https://colab.research.google.com/notebooks/data_table.ipynb>data table notebook</a>'\n",
              "            + ' to learn more about interactive tables.';\n",
              "          element.innerHTML = '';\n",
              "          dataTable['output_type'] = 'display_data';\n",
              "          await google.colab.output.renderOutput(dataTable, element);\n",
              "          const docLink = document.createElement('div');\n",
              "          docLink.innerHTML = docLinkHtml;\n",
              "          element.appendChild(docLink);\n",
              "        }\n",
              "      </script>\n",
              "    </div>\n",
              "  </div>\n",
              "  "
            ],
            "text/plain": [
              "                   Resturant          City State     Date  Dave Score  \\\n",
              "0             Dicey's Tavern     Nashville    TN       22         7.7   \n",
              "1     Manny's House of Pizza     Nashville    TN        2         7.9   \n",
              "2         Nicky's Coal Fired     Nashville    TN        3         7.6   \n",
              "3               Midnight Oil     Nashville    TN        4         6.4   \n",
              "4                     Krust      Tavernier    FL        5         7.7   \n",
              "...                      ...           ...   ...      ...         ...   \n",
              "1404         Bianchi's Pizza        Revere    MA   4/9/13         8.2   \n",
              "1405            Tony's Place  West Roxbury    MA   4/3/13         8.5   \n",
              "1406           Cape Cod Cafe      Brockton    MA   4/2/13         8.5   \n",
              "1407            Lynwood Cafe      Randolph    MA  3/14/13         8.0   \n",
              "1408          Town Spa Pizza     Stoughton    MA  3/13/13         9.0   \n",
              "\n",
              "     Fan Score Number of OneBite Reviews Yelp Stars Number of Yelp Reviews  \\\n",
              "0          0.0                         1        4.5                     85   \n",
              "1          8.0                        54        4.5                    180   \n",
              "2          7.4                        23          4                    260   \n",
              "3          8.1                        32        4.5                     72   \n",
              "4          0.0                         1          5                     11   \n",
              "...        ...                       ...        ...                    ...   \n",
              "1404       8.1                        32          4                    255   \n",
              "1405       8.3                        54        3.5                    101   \n",
              "1406       8.3                        58          4                    255   \n",
              "1407       8.3                        95          4                    402   \n",
              "1408       8.4                       222        3.5                    566   \n",
              "\n",
              "                                 Location  \\\n",
              "0          425 Chestnut St, Nashville, TN   \n",
              "1       15 Arcade Building, Nashville, TN   \n",
              "2     5026 Centennial Blvd, Nashville, TN   \n",
              "3          1312 51st Ave N, Nashville, TN   \n",
              "4       91865 Overseas Hwy, Tavernier, FL   \n",
              "...                                   ...   \n",
              "1404    381 Revere Beach Blvd, Revere, MA   \n",
              "1405       188 Baker St, West Roxbury, MA   \n",
              "1406            979 Main St, Brockton, MA   \n",
              "1407          320 Center St, Randolph, MA   \n",
              "1408    1119 Washington St, Stoughton, MA   \n",
              "\n",
              "                                                  Links   Latitude  Longitude  \n",
              "0     https://onebite.app/restaurant/diceys-tavern-n...  36.144069 -86.768038  \n",
              "1     https://onebite.app/restaurant/mannys-house-of...  36.162664 -86.781602  \n",
              "2     https://onebite.app/restaurant/nickys-coal-fir...  36.162462 -86.848713  \n",
              "3     https://onebite.app/restaurant/midnight-oil-na...  36.161784 -86.849091  \n",
              "4     https://onebite.app/restaurant/krust-tavernier...  25.009054 -80.517027  \n",
              "...                                                 ...        ...        ...  \n",
              "1404  https://onebite.app/restaurant/bianchis-pizza-...  42.422446 -70.984737  \n",
              "1405  https://onebite.app/restaurant/tonys-place-wes...  42.276013 -71.167248  \n",
              "1406  https://onebite.app/restaurant/cape-cod-cafe-b...  42.066040 -71.016565  \n",
              "1407  https://onebite.app/restaurant/lynwood-cafe-ra...  42.152170 -71.030641  \n",
              "1408  https://onebite.app/restaurant/town-spa-pizza-...  42.114942 -71.101170  \n",
              "\n",
              "[1409 rows x 13 columns]"
            ]
          },
          "execution_count": 20,
          "metadata": {},
          "output_type": "execute_result"
        }
      ],
      "source": [
        "df"
      ]
    },
    {
      "cell_type": "code",
      "execution_count": null,
      "metadata": {
        "colab": {
          "base_uri": "https://localhost:8080/",
          "height": 17
        },
        "id": "gy4ATRxN_HRK",
        "outputId": "f6a14acd-2b20-4013-fe6e-53346df96be8"
      },
      "outputs": [
        {
          "data": {
            "application/javascript": "\n    async function download(id, filename, size) {\n      if (!google.colab.kernel.accessAllowed) {\n        return;\n      }\n      const div = document.createElement('div');\n      const label = document.createElement('label');\n      label.textContent = `Downloading \"${filename}\": `;\n      div.appendChild(label);\n      const progress = document.createElement('progress');\n      progress.max = size;\n      div.appendChild(progress);\n      document.body.appendChild(div);\n\n      const buffers = [];\n      let downloaded = 0;\n\n      const channel = await google.colab.kernel.comms.open(id);\n      // Send a message to notify the kernel that we're ready.\n      channel.send({})\n\n      for await (const message of channel.messages) {\n        // Send a message to notify the kernel that we're ready.\n        channel.send({})\n        if (message.buffers) {\n          for (const buffer of message.buffers) {\n            buffers.push(buffer);\n            downloaded += buffer.byteLength;\n            progress.value = downloaded;\n          }\n        }\n      }\n      const blob = new Blob(buffers, {type: 'application/binary'});\n      const a = document.createElement('a');\n      a.href = window.URL.createObjectURL(blob);\n      a.download = filename;\n      div.appendChild(a);\n      a.click();\n      div.remove();\n    }\n  ",
            "text/plain": [
              "<IPython.core.display.Javascript object>"
            ]
          },
          "metadata": {},
          "output_type": "display_data"
        },
        {
          "data": {
            "application/javascript": "download(\"download_505f335a-e6fc-40a0-88ae-040690a139dd\", \"output.csv\", 231848)",
            "text/plain": [
              "<IPython.core.display.Javascript object>"
            ]
          },
          "metadata": {},
          "output_type": "display_data"
        }
      ],
      "source": [
        "from google.colab import files\n",
        "df.to_csv('output.csv', encoding = 'utf-8-sig') \n",
        "files.download('output.csv')"
      ]
    }
  ],
  "metadata": {
    "colab": {
      "provenance": []
    },
    "kernelspec": {
      "display_name": "base",
      "language": "python",
      "name": "python3"
    },
    "language_info": {
      "codemirror_mode": {
        "name": "ipython",
        "version": 3
      },
      "file_extension": ".py",
      "mimetype": "text/x-python",
      "name": "python",
      "nbconvert_exporter": "python",
      "pygments_lexer": "ipython3",
      "version": "3.9.13"
    },
    "vscode": {
      "interpreter": {
        "hash": "412ddb74d6b94a2b750b71e368794d1063e81bfdafc109113b82641f366284c6"
      }
    }
  },
  "nbformat": 4,
  "nbformat_minor": 0
}
